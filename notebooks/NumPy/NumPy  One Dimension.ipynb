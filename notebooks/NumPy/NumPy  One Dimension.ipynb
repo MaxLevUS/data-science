{
 "cells": [
  {
   "cell_type": "code",
   "execution_count": 4,
   "id": "d8b579ff-bfe3-402c-b973-ab2676f711e5",
   "metadata": {},
   "outputs": [],
   "source": [
    "import numpy as np"
   ]
  },
  {
   "cell_type": "code",
   "execution_count": 5,
   "id": "727fb8b2-4896-47d0-9e1d-fa37043d2284",
   "metadata": {},
   "outputs": [
    {
     "data": {
      "text/plain": [
       "array([1, 2, 3, 4])"
      ]
     },
     "execution_count": 5,
     "metadata": {},
     "output_type": "execute_result"
    }
   ],
   "source": [
    "nums_array = np.array([1, 2, 3, 4])\n",
    "nums_array"
   ]
  },
  {
   "cell_type": "code",
   "execution_count": 6,
   "id": "29fb8eef-d9e1-4bf6-8e4b-e82b75788530",
   "metadata": {},
   "outputs": [
    {
     "data": {
      "text/plain": [
       "numpy.ndarray"
      ]
     },
     "execution_count": 6,
     "metadata": {},
     "output_type": "execute_result"
    }
   ],
   "source": [
    "type(nums_array)"
   ]
  },
  {
   "cell_type": "code",
   "execution_count": 7,
   "id": "47f24f0b-1ac5-48aa-859d-a5098b8a1090",
   "metadata": {},
   "outputs": [
    {
     "data": {
      "text/plain": [
       "type"
      ]
     },
     "execution_count": 7,
     "metadata": {},
     "output_type": "execute_result"
    }
   ],
   "source": [
    "type(numpy.ndarray)"
   ]
  },
  {
   "cell_type": "code",
   "execution_count": 8,
   "id": "c8edc85e-400a-4ce8-b84f-45f2f7c8ce6f",
   "metadata": {},
   "outputs": [
    {
     "data": {
      "text/plain": [
       "np.int64(1)"
      ]
     },
     "execution_count": 8,
     "metadata": {},
     "output_type": "execute_result"
    }
   ],
   "source": [
    "nums_array[0]"
   ]
  },
  {
   "cell_type": "code",
   "execution_count": 9,
   "id": "26fd8992-c5cc-4d1e-8c94-2d8c91a2260b",
   "metadata": {},
   "outputs": [
    {
     "data": {
      "text/plain": [
       "np.int64(4)"
      ]
     },
     "execution_count": 9,
     "metadata": {},
     "output_type": "execute_result"
    }
   ],
   "source": [
    "nums_array[-1]"
   ]
  },
  {
   "cell_type": "code",
   "execution_count": null,
   "id": "8daae3e6-b561-40da-bc18-530cfd058e3b",
   "metadata": {},
   "outputs": [],
   "source": [
    "nums_array.shape"
   ]
  },
  {
   "cell_type": "code",
   "execution_count": 10,
   "id": "4529038f-5552-453d-bdf5-347932449c56",
   "metadata": {},
   "outputs": [
    {
     "data": {
      "text/plain": [
       "1"
      ]
     },
     "execution_count": 10,
     "metadata": {},
     "output_type": "execute_result"
    }
   ],
   "source": [
    "nums_array.ndim"
   ]
  },
  {
   "cell_type": "code",
   "execution_count": 14,
   "id": "487a0fff-d058-42b3-b4be-ee2b770f0632",
   "metadata": {},
   "outputs": [
    {
     "data": {
      "text/plain": [
       "4"
      ]
     },
     "execution_count": 14,
     "metadata": {},
     "output_type": "execute_result"
    }
   ],
   "source": [
    "nums_array.size"
   ]
  },
  {
   "cell_type": "code",
   "execution_count": 15,
   "id": "6d3ea0e2-785e-443a-8d57-a2c3eb687f7d",
   "metadata": {},
   "outputs": [
    {
     "data": {
      "text/plain": [
       "dtype('int64')"
      ]
     },
     "execution_count": 15,
     "metadata": {},
     "output_type": "execute_result"
    }
   ],
   "source": [
    "nums_array.dtype"
   ]
  },
  {
   "cell_type": "code",
   "execution_count": 16,
   "id": "9a1c50cc-bbe6-446e-8bcc-5b7bf535c82a",
   "metadata": {},
   "outputs": [
    {
     "data": {
      "text/plain": [
       "8"
      ]
     },
     "execution_count": 16,
     "metadata": {},
     "output_type": "execute_result"
    }
   ],
   "source": [
    "nums_array.itemsize"
   ]
  },
  {
   "cell_type": "code",
   "execution_count": 17,
   "id": "5bcd9a83-9c77-44c8-95f1-c53cde175d3c",
   "metadata": {},
   "outputs": [
    {
     "data": {
      "text/plain": [
       "array(['True', '10', 'abc', '5.5'], dtype='<U32')"
      ]
     },
     "execution_count": 17,
     "metadata": {},
     "output_type": "execute_result"
    }
   ],
   "source": [
    "np.array([True, 10, 'abc', 5.5])"
   ]
  },
  {
   "cell_type": "code",
   "execution_count": 21,
   "id": "9b147c1b-e495-4e6c-9d86-606f7ebf6e9a",
   "metadata": {},
   "outputs": [
    {
     "data": {
      "text/plain": [
       "array(['True', '10', 'abc', '5.5'], dtype='<U32')"
      ]
     },
     "execution_count": 21,
     "metadata": {},
     "output_type": "execute_result"
    }
   ],
   "source": [
    "str_array = np.array([True, 10, 'abc', 5.5])\n",
    "str_array"
   ]
  },
  {
   "cell_type": "code",
   "execution_count": 19,
   "id": "a8f4b99c-9b95-4aa9-b338-b6a6d5203427",
   "metadata": {},
   "outputs": [
    {
     "data": {
      "text/plain": [
       "'str1024'"
      ]
     },
     "execution_count": 19,
     "metadata": {},
     "output_type": "execute_result"
    }
   ],
   "source": [
    "np.array([True, 10, 'abc', 5.5]).dtype.name"
   ]
  },
  {
   "cell_type": "code",
   "execution_count": 20,
   "id": "1eda5d14-7cfc-4142-ac78-bbb6b15a263e",
   "metadata": {},
   "outputs": [
    {
     "data": {
      "text/plain": [
       "128"
      ]
     },
     "execution_count": 20,
     "metadata": {},
     "output_type": "execute_result"
    }
   ],
   "source": [
    "np.array([True, 10, 'abc', 5.5]).itemsize"
   ]
  },
  {
   "cell_type": "code",
   "execution_count": 23,
   "id": "7f430038-c194-4c0c-bf79-707ae49e6b53",
   "metadata": {},
   "outputs": [
    {
     "data": {
      "text/plain": [
       "array([{'city': 'London'}, {'city': 'Boston'}], dtype=object)"
      ]
     },
     "execution_count": 23,
     "metadata": {},
     "output_type": "execute_result"
    }
   ],
   "source": [
    "obj_array = np.array([{'city': 'London'}, {'city': 'Boston'}])\n",
    "obj_array"
   ]
  },
  {
   "cell_type": "code",
   "execution_count": 24,
   "id": "22cc6bfd-aa4b-40ca-8364-7dd5f7ea1a7b",
   "metadata": {},
   "outputs": [
    {
     "data": {
      "text/plain": [
       "'object'"
      ]
     },
     "execution_count": 24,
     "metadata": {},
     "output_type": "execute_result"
    }
   ],
   "source": [
    "obj_array.dtype.name"
   ]
  },
  {
   "cell_type": "code",
   "execution_count": 25,
   "id": "a5fb4118-9188-4762-8f9a-2a3a8172a8ec",
   "metadata": {},
   "outputs": [
    {
     "data": {
      "text/plain": [
       "8"
      ]
     },
     "execution_count": 25,
     "metadata": {},
     "output_type": "execute_result"
    }
   ],
   "source": [
    "obj_array.itemsize"
   ]
  }
 ],
 "metadata": {
  "kernelspec": {
   "display_name": "Python 3 (ipykernel)",
   "language": "python",
   "name": "python3"
  },
  "language_info": {
   "codemirror_mode": {
    "name": "ipython",
    "version": 3
   },
   "file_extension": ".py",
   "mimetype": "text/x-python",
   "name": "python",
   "nbconvert_exporter": "python",
   "pygments_lexer": "ipython3",
   "version": "3.11.1"
  }
 },
 "nbformat": 4,
 "nbformat_minor": 5
}

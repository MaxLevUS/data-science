{
 "cells": [
  {
   "cell_type": "code",
   "execution_count": 2,
   "id": "3596684f-6730-4579-be6c-d78e1d315da4",
   "metadata": {},
   "outputs": [],
   "source": [
    "import numpy as np"
   ]
  },
  {
   "cell_type": "code",
   "execution_count": 4,
   "id": "02a24d82-6da3-4d48-aebc-5bd03a271cc0",
   "metadata": {},
   "outputs": [
    {
     "data": {
      "text/plain": [
       "array([[0.70895904, 0.28920344, 0.16849307, 0.12519202, 0.55943889],\n",
       "       [0.25038234, 0.19835796, 0.32043647, 0.52115777, 0.58322767],\n",
       "       [0.90008273, 0.92307662, 0.01440421, 0.07279133, 0.94738361]])"
      ]
     },
     "execution_count": 4,
     "metadata": {},
     "output_type": "execute_result"
    }
   ],
   "source": [
    "\n",
    "np.random.random((3, 5))"
   ]
  },
  {
   "cell_type": "code",
   "execution_count": null,
   "id": "640d13f0-95a8-43b9-8d96-6e459033589e",
   "metadata": {},
   "outputs": [],
   "source": []
  }
 ],
 "metadata": {
  "kernelspec": {
   "display_name": "Python 3 (ipykernel)",
   "language": "python",
   "name": "python3"
  },
  "language_info": {
   "codemirror_mode": {
    "name": "ipython",
    "version": 3
   },
   "file_extension": ".py",
   "mimetype": "text/x-python",
   "name": "python",
   "nbconvert_exporter": "python",
   "pygments_lexer": "ipython3",
   "version": "3.11.1"
  }
 },
 "nbformat": 4,
 "nbformat_minor": 5
}

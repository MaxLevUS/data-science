{
 "cells": [
  {
   "cell_type": "code",
   "execution_count": 1,
   "id": "6ef733c8-6dd7-4851-9bfd-a99023f6ba58",
   "metadata": {},
   "outputs": [],
   "source": [
    "import numpy as np"
   ]
  },
  {
   "cell_type": "code",
   "execution_count": 2,
   "id": "bbbaedca-14d7-40d8-b6e8-daa57e285010",
   "metadata": {},
   "outputs": [
    {
     "data": {
      "text/plain": [
       "array([0, 1, 2, 3, 4, 5, 6, 7, 8, 9])"
      ]
     },
     "execution_count": 2,
     "metadata": {},
     "output_type": "execute_result"
    }
   ],
   "source": [
    "np.arange(10)"
   ]
  },
  {
   "cell_type": "code",
   "execution_count": 3,
   "id": "1f3af7ef-8de5-4511-8eba-f47d0e7ef18a",
   "metadata": {},
   "outputs": [
    {
     "data": {
      "text/plain": [
       "array([10, 11, 12, 13, 14, 15, 16, 17, 18, 19, 20, 21, 22, 23, 24])"
      ]
     },
     "execution_count": 3,
     "metadata": {},
     "output_type": "execute_result"
    }
   ],
   "source": [
    "np.arange(10, 25)"
   ]
  },
  {
   "cell_type": "code",
   "execution_count": 4,
   "id": "84f28d09-da8a-4bfc-93fc-64471c5f7669",
   "metadata": {},
   "outputs": [
    {
     "data": {
      "text/plain": [
       "array([20, 23, 26, 29])"
      ]
     },
     "execution_count": 4,
     "metadata": {},
     "output_type": "execute_result"
    }
   ],
   "source": [
    "np.arange(20, 30, 3)"
   ]
  },
  {
   "cell_type": "code",
   "execution_count": 5,
   "id": "925a4d0b-d4e3-4ad3-9eb9-8332026910e0",
   "metadata": {},
   "outputs": [
    {
     "data": {
      "text/plain": [
       "array([-15, -11,  -7,  -3,   1])"
      ]
     },
     "execution_count": 5,
     "metadata": {},
     "output_type": "execute_result"
    }
   ],
   "source": [
    "np.arange(-15, 5, 4)"
   ]
  },
  {
   "cell_type": "code",
   "execution_count": 6,
   "id": "82078e29-48e5-49d3-9a89-234d453b497a",
   "metadata": {},
   "outputs": [
    {
     "data": {
      "text/plain": [
       "array([-15, -11,  -7,  -3,   1])"
      ]
     },
     "execution_count": 6,
     "metadata": {},
     "output_type": "execute_result"
    }
   ],
   "source": [
    "np.arange(start = -15,stop = 5, step = 4)"
   ]
  },
  {
   "cell_type": "code",
   "execution_count": 8,
   "id": "6789307c-c2b7-473d-8397-c79b759176b8",
   "metadata": {},
   "outputs": [
    {
     "data": {
      "text/plain": [
       "array([-15, -11,  -7,  -3,   1])"
      ]
     },
     "execution_count": 8,
     "metadata": {},
     "output_type": "execute_result"
    }
   ],
   "source": [
    "np.arange(step = 4,stop = 5, start = -15)"
   ]
  },
  {
   "cell_type": "code",
   "execution_count": 9,
   "id": "cb18e7a9-614e-44e4-b5fa-ed8a9cae2b8f",
   "metadata": {},
   "outputs": [
    {
     "data": {
      "text/plain": [
       "array([[ 0,  1,  2,  3,  4,  5,  6,  7,  8,  9],\n",
       "       [10, 11, 12, 13, 14, 15, 16, 17, 18, 19]])"
      ]
     },
     "execution_count": 9,
     "metadata": {},
     "output_type": "execute_result"
    }
   ],
   "source": [
    "np.arange(20).reshape([2, 10])"
   ]
  },
  {
   "cell_type": "code",
   "execution_count": 12,
   "id": "b3499f9e-cc4b-41fa-8435-64ffef8b5f81",
   "metadata": {},
   "outputs": [
    {
     "data": {
      "text/plain": [
       "array([[ 0,  1,  2,  3,  4,  5,  6,  7,  8,  9],\n",
       "       [10, 11, 12, 13, 14, 15, 16, 17, 18, 19],\n",
       "       [20, 21, 22, 23, 24, 25, 26, 27, 28, 29]])"
      ]
     },
     "execution_count": 12,
     "metadata": {},
     "output_type": "execute_result"
    }
   ],
   "source": [
    "np.arange(30).reshape([3, 10])"
   ]
  },
  {
   "cell_type": "code",
   "execution_count": 13,
   "id": "19abd877-f49f-4067-a95f-aef8c1818edf",
   "metadata": {},
   "outputs": [
    {
     "data": {
      "text/plain": [
       "array([[ 0,  1,  2,  3,  4,  5,  6,  7,  8,  9],\n",
       "       [10, 11, 12, 13, 14, 15, 16, 17, 18, 19],\n",
       "       [20, 21, 22, 23, 24, 25, 26, 27, 28, 29],\n",
       "       [30, 31, 32, 33, 34, 35, 36, 37, 38, 39]])"
      ]
     },
     "execution_count": 13,
     "metadata": {},
     "output_type": "execute_result"
    }
   ],
   "source": [
    "np.arange(40).reshape([4, 10])"
   ]
  },
  {
   "cell_type": "code",
   "execution_count": 17,
   "id": "d3a0c426-4016-4653-95b8-4f741b175a53",
   "metadata": {},
   "outputs": [
    {
     "data": {
      "text/plain": [
       "array([[[ 0,  1,  2,  3,  4],\n",
       "        [ 5,  6,  7,  8,  9]],\n",
       "\n",
       "       [[10, 11, 12, 13, 14],\n",
       "        [15, 16, 17, 18, 19]]])"
      ]
     },
     "execution_count": 17,
     "metadata": {},
     "output_type": "execute_result"
    }
   ],
   "source": [
    "np.arange(20).reshape([2, 2, 5])"
   ]
  },
  {
   "cell_type": "code",
   "execution_count": 20,
   "id": "23b120d1-778f-46d0-a342-3486f9852285",
   "metadata": {},
   "outputs": [
    {
     "data": {
      "text/plain": [
       "array([0.91598576, 0.58175237, 0.02407259, 0.65146583, 0.76392748,\n",
       "       0.48982976, 0.12989258, 0.06596291, 0.38980199, 0.34815702])"
      ]
     },
     "execution_count": 20,
     "metadata": {},
     "output_type": "execute_result"
    }
   ],
   "source": [
    "np.random.random((10,))"
   ]
  },
  {
   "cell_type": "code",
   "execution_count": 22,
   "id": "5b83455c-112f-4b71-9233-357dd76d2638",
   "metadata": {},
   "outputs": [
    {
     "data": {
      "text/plain": [
       "array([[0.77132064, 0.02075195, 0.63364823, 0.74880388, 0.49850701],\n",
       "       [0.22479665, 0.19806286, 0.76053071, 0.16911084, 0.08833981]])"
      ]
     },
     "execution_count": 22,
     "metadata": {},
     "output_type": "execute_result"
    }
   ],
   "source": [
    "np.random.seed(10)\n",
    "np.random.random((10,)).reshape((2, 5))"
   ]
  },
  {
   "cell_type": "code",
   "execution_count": 23,
   "id": "7a38def9-9fe6-49ae-b792-b3ac803493d2",
   "metadata": {},
   "outputs": [
    {
     "data": {
      "text/plain": [
       "array([[0.77132064, 0.02075195, 0.63364823, 0.74880388, 0.49850701],\n",
       "       [0.22479665, 0.19806286, 0.76053071, 0.16911084, 0.08833981]])"
      ]
     },
     "execution_count": 23,
     "metadata": {},
     "output_type": "execute_result"
    }
   ],
   "source": [
    "np.random.seed(10)\n",
    "np.random.random((10,)).reshape((2, 5))"
   ]
  },
  {
   "cell_type": "code",
   "execution_count": 27,
   "id": "2b864b96-3274-4288-b2db-511beb98e1c5",
   "metadata": {},
   "outputs": [
    {
     "data": {
      "text/plain": [
       "array([[[59, 79, 54],\n",
       "        [65, 50, 67],\n",
       "        [77, 78, 75]],\n",
       "\n",
       "       [[79, 66, 79],\n",
       "        [67, 76, 58],\n",
       "        [59, 50, 60]],\n",
       "\n",
       "       [[58, 72, 54],\n",
       "        [69, 66, 54],\n",
       "        [65, 61, 72]],\n",
       "\n",
       "       [[74, 61, 76],\n",
       "        [51, 58, 54],\n",
       "        [64, 67, 69]]], dtype=int32)"
      ]
     },
     "execution_count": 27,
     "metadata": {},
     "output_type": "execute_result"
    }
   ],
   "source": [
    "np.random.seed(10)\n",
    "np.random.randint(50, 80, (4, 3, 3))"
   ]
  },
  {
   "cell_type": "code",
   "execution_count": 28,
   "id": "6bdc6f8d-5ded-4eef-9e6f-84368909bfd9",
   "metadata": {},
   "outputs": [
    {
     "data": {
      "text/plain": [
       "array([59, 79, 54, 65, 50, 67, 77, 78, 75, 79, 66, 79, 67, 76, 58, 59, 50,\n",
       "       60, 58, 72, 54, 69, 66, 54, 65, 61, 72, 74, 61, 76, 51, 58, 54, 64,\n",
       "       67, 69], dtype=int32)"
      ]
     },
     "execution_count": 28,
     "metadata": {},
     "output_type": "execute_result"
    }
   ],
   "source": [
    "np.random.seed(10)\n",
    "np.random.randint(50, 80, (4, 3, 3)).flatten()"
   ]
  },
  {
   "cell_type": "code",
   "execution_count": 29,
   "id": "9b63d154-62c5-40de-b14a-cffa363eda9d",
   "metadata": {},
   "outputs": [
    {
     "ename": "ValueError",
     "evalue": "cannot reshape array of size 30 into shape (4,10)",
     "output_type": "error",
     "traceback": [
      "\u001b[1;31m---------------------------------------------------------------------------\u001b[0m",
      "\u001b[1;31mValueError\u001b[0m                                Traceback (most recent call last)",
      "Cell \u001b[1;32mIn[29], line 1\u001b[0m\n\u001b[1;32m----> 1\u001b[0m \u001b[43mnp\u001b[49m\u001b[38;5;241;43m.\u001b[39;49m\u001b[43marange\u001b[49m\u001b[43m(\u001b[49m\u001b[38;5;241;43m30\u001b[39;49m\u001b[43m)\u001b[49m\u001b[38;5;241;43m.\u001b[39;49m\u001b[43mreshape\u001b[49m\u001b[43m(\u001b[49m\u001b[38;5;241;43m4\u001b[39;49m\u001b[43m,\u001b[49m\u001b[43m \u001b[49m\u001b[38;5;241;43m10\u001b[39;49m\u001b[43m)\u001b[49m\n",
      "\u001b[1;31mValueError\u001b[0m: cannot reshape array of size 30 into shape (4,10)"
     ]
    }
   ],
   "source": [
    "np.arange(30).reshape(4, 10)"
   ]
  },
  {
   "cell_type": "code",
   "execution_count": null,
   "id": "3a5f1342-e97a-43be-84af-d9203ae6edd6",
   "metadata": {},
   "outputs": [],
   "source": []
  }
 ],
 "metadata": {
  "kernelspec": {
   "display_name": "Python 3 (ipykernel)",
   "language": "python",
   "name": "python3"
  },
  "language_info": {
   "codemirror_mode": {
    "name": "ipython",
    "version": 3
   },
   "file_extension": ".py",
   "mimetype": "text/x-python",
   "name": "python",
   "nbconvert_exporter": "python",
   "pygments_lexer": "ipython3",
   "version": "3.11.1"
  }
 },
 "nbformat": 4,
 "nbformat_minor": 5
}
